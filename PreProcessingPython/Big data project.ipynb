{
 "cells": [
  {
   "cell_type": "code",
   "execution_count": 1,
   "metadata": {},
   "outputs": [],
   "source": [
    "# Import statements\n",
    "import pandas as pd\n",
    "import json\n",
    "from pandas.io.json import json_normalize"
   ]
  },
  {
   "cell_type": "code",
   "execution_count": 4,
   "metadata": {},
   "outputs": [],
   "source": [
    "# Read data\n",
    "plans_data = pd.read_csv(\"C:\\\\Data\\\\Gayatri\\\\US\\\\UTD\\\\Spring 2019\\\\CS6307 Big Data\\\\Projects\\\\Final project\\\\Baidu\\\\data_set_phase1\\\\train_plans.csv\")"
   ]
  },
  {
   "cell_type": "code",
   "execution_count": 5,
   "metadata": {},
   "outputs": [],
   "source": [
    "# Read the json object in each row and convert it to a dict. \n",
    "row_data = []\n",
    "for row_number in range(0, len(plans_data)):\n",
    "    # Empty the dict at the end of each row to insert the next row's values\n",
    "    json_dict = {}\n",
    "    for single_json_obj in json.loads(plans_data.iloc[row_number][\"plans\"]):\n",
    "        json_dict[\"sessionID\"] = plans_data.iloc[row_number][\"sid\"]\n",
    "        json_dict[\"plan_time\"] = plans_data.iloc[row_number][\"plan_time\"]\n",
    "        for x in single_json_obj:\n",
    "            # Ignore if we find transport_mode because this information is encoded in the column names\n",
    "            if (x != \"transport_mode\"):\n",
    "                json_dict[x + \"_\" + str(single_json_obj[\"transport_mode\"])] = single_json_obj[x]\n",
    "    # At the end of each row, json_dict contains session id, plan time and json objects converted to dict\n",
    "    row_data.append(json_dict)"
   ]
  },
  {
   "cell_type": "code",
   "execution_count": null,
   "metadata": {},
   "outputs": [],
   "source": []
  },
  {
   "cell_type": "code",
   "execution_count": 9,
   "metadata": {},
   "outputs": [],
   "source": [
    "# Code to use if we want to add system recommended transport mode also in the project for result comparison\n",
    "# Read the json object in each row and convert it to a dict. \n",
    "row_data = []\n",
    "for row_number in range(0, len(plans_data)):\n",
    "    # Empty the dict at the end of each row to insert the next row's values\n",
    "    json_dict = {}\n",
    "    i = 0 # Write down the first displayed transport mode as a new column to compare our results with the recommended results\n",
    "    json_dict[\"sessionID\"] = plans_data.iloc[row_number][\"sid\"]\n",
    "    json_dict[\"plan_time\"] = plans_data.iloc[row_number][\"plan_time\"]\n",
    "        \n",
    "    for single_json_obj in json.loads(plans_data.iloc[row_number][\"plans\"]):\n",
    "        for x in single_json_obj:\n",
    "            if i == 0:\n",
    "                json_dict[\"system_recommended_mode\"] = single_json_obj[\"transport_mode\"]\n",
    "            i = i + 1\n",
    "            # Ignore if we find transport_mode because this information is encoded in the column names\n",
    "            if (x != \"transport_mode\"):\n",
    "                json_dict[x + \"_\" + str(single_json_obj[\"transport_mode\"])] = single_json_obj[x]\n",
    "    # At the end of each row, json_dict contains session id, plan time and json objects converted to dict\n",
    "    row_data.append(json_dict)"
   ]
  },
  {
   "cell_type": "code",
   "execution_count": null,
   "metadata": {},
   "outputs": [],
   "source": []
  },
  {
   "cell_type": "code",
   "execution_count": 10,
   "metadata": {},
   "outputs": [],
   "source": [
    "# Convert the list of dicts to a dataframe\n",
    "json_to_dataframe = json_normalize(row_data)"
   ]
  },
  {
   "cell_type": "code",
   "execution_count": 11,
   "metadata": {},
   "outputs": [
    {
     "data": {
      "text/plain": [
       "(491054, 36)"
      ]
     },
     "execution_count": 11,
     "metadata": {},
     "output_type": "execute_result"
    }
   ],
   "source": [
    "# Expected shape of final dataframe - (491054, 35), if all 11 modes of transport is used at least once in the plans\n",
    "json_to_dataframe.shape"
   ]
  },
  {
   "cell_type": "code",
   "execution_count": 8,
   "metadata": {},
   "outputs": [],
   "source": [
    "# Write this to a csv file\n",
    "json_to_dataframe.to_csv(\"C:\\\\Data\\\\Gayatri\\\\US\\\\UTD\\\\Spring 2019\\\\CS6307 Big Data\\\\Projects\\\\Final project\\\\Baidu\\\\data_set_phase1\\\\new_train_plans.csv\", index = False)"
   ]
  },
  {
   "cell_type": "code",
   "execution_count": null,
   "metadata": {},
   "outputs": [],
   "source": []
  },
  {
   "cell_type": "code",
   "execution_count": 12,
   "metadata": {},
   "outputs": [],
   "source": [
    "# Write a new csv file to store system recommended transport mode also\n",
    "json_to_dataframe.to_csv(\"C:\\\\Data\\\\Gayatri\\\\US\\\\UTD\\\\Spring 2019\\\\CS6307 Big Data\\\\Projects\\\\Final project\\\\Baidu\\\\data_set_phase1\\\\train_plans_with_system_recommendation.csv\", index = False)"
   ]
  }
 ],
 "metadata": {
  "kernelspec": {
   "display_name": "Python 3",
   "language": "python",
   "name": "python3"
  },
  "language_info": {
   "codemirror_mode": {
    "name": "ipython",
    "version": 3
   },
   "file_extension": ".py",
   "mimetype": "text/x-python",
   "name": "python",
   "nbconvert_exporter": "python",
   "pygments_lexer": "ipython3",
   "version": "3.6.3"
  }
 },
 "nbformat": 4,
 "nbformat_minor": 2
}
